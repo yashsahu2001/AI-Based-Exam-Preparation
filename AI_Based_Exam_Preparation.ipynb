{
  "nbformat": 4,
  "nbformat_minor": 0,
  "metadata": {
    "colab": {
      "provenance": []
    },
    "kernelspec": {
      "name": "python3",
      "display_name": "Python 3"
    },
    "language_info": {
      "name": "python"
    }
  },
  "cells": [
    {
      "cell_type": "code",
      "execution_count": 1,
      "metadata": {
        "colab": {
          "base_uri": "https://localhost:8080/"
        },
        "collapsed": true,
        "id": "YK_CtObycxfK",
        "outputId": "1e373b2e-8d4b-4b63-fe6c-a61be1f40950"
      },
      "outputs": [
        {
          "output_type": "stream",
          "name": "stdout",
          "text": [
            "Requirement already satisfied: transformers in /usr/local/lib/python3.10/dist-packages (4.42.4)\n",
            "Requirement already satisfied: filelock in /usr/local/lib/python3.10/dist-packages (from transformers) (3.15.4)\n",
            "Requirement already satisfied: huggingface-hub<1.0,>=0.23.2 in /usr/local/lib/python3.10/dist-packages (from transformers) (0.23.5)\n",
            "Requirement already satisfied: numpy<2.0,>=1.17 in /usr/local/lib/python3.10/dist-packages (from transformers) (1.25.2)\n",
            "Requirement already satisfied: packaging>=20.0 in /usr/local/lib/python3.10/dist-packages (from transformers) (24.1)\n",
            "Requirement already satisfied: pyyaml>=5.1 in /usr/local/lib/python3.10/dist-packages (from transformers) (6.0.1)\n",
            "Requirement already satisfied: regex!=2019.12.17 in /usr/local/lib/python3.10/dist-packages (from transformers) (2024.5.15)\n",
            "Requirement already satisfied: requests in /usr/local/lib/python3.10/dist-packages (from transformers) (2.31.0)\n",
            "Requirement already satisfied: safetensors>=0.4.1 in /usr/local/lib/python3.10/dist-packages (from transformers) (0.4.3)\n",
            "Requirement already satisfied: tokenizers<0.20,>=0.19 in /usr/local/lib/python3.10/dist-packages (from transformers) (0.19.1)\n",
            "Requirement already satisfied: tqdm>=4.27 in /usr/local/lib/python3.10/dist-packages (from transformers) (4.66.4)\n",
            "Requirement already satisfied: fsspec>=2023.5.0 in /usr/local/lib/python3.10/dist-packages (from huggingface-hub<1.0,>=0.23.2->transformers) (2024.6.1)\n",
            "Requirement already satisfied: typing-extensions>=3.7.4.3 in /usr/local/lib/python3.10/dist-packages (from huggingface-hub<1.0,>=0.23.2->transformers) (4.12.2)\n",
            "Requirement already satisfied: charset-normalizer<4,>=2 in /usr/local/lib/python3.10/dist-packages (from requests->transformers) (3.3.2)\n",
            "Requirement already satisfied: idna<4,>=2.5 in /usr/local/lib/python3.10/dist-packages (from requests->transformers) (3.7)\n",
            "Requirement already satisfied: urllib3<3,>=1.21.1 in /usr/local/lib/python3.10/dist-packages (from requests->transformers) (2.0.7)\n",
            "Requirement already satisfied: certifi>=2017.4.17 in /usr/local/lib/python3.10/dist-packages (from requests->transformers) (2024.7.4)\n"
          ]
        }
      ],
      "source": [
        "!pip install transformers"
      ]
    },
    {
      "cell_type": "code",
      "source": [
        "from transformers import pipeline\n",
        "import pandas as pd"
      ],
      "metadata": {
        "id": "uj87InW9dI03"
      },
      "execution_count": 2,
      "outputs": []
    },
    {
      "cell_type": "code",
      "source": [
        "# Load the model for question generation\n",
        "generator = pipeline('text-generation', model='gpt-3.5-turbo')  # Replace with your model"
      ],
      "metadata": {
        "id": "08rU_rrRdM1m"
      },
      "execution_count": null,
      "outputs": []
    },
    {
      "cell_type": "code",
      "source": [
        "def generate_question(text, model):\n",
        "    \"\"\"\n",
        "    Generate a question based on the input text.\n",
        "\n",
        "    Args:\n",
        "        text (str): Input text for question generation.\n",
        "        model: The text generation model.\n",
        "\n",
        "    Returns:\n",
        "        str: Generated question.\n",
        "    \"\"\"\n",
        "    result = model(text, max_length=100, num_return_sequences=1)\n",
        "    return result[0]['generated_text']\n",
        "\n",
        "def provide_explanation(question, model):\n",
        "    \"\"\"\n",
        "    Provide an explanation for a given question.\n",
        "\n",
        "    Args:\n",
        "        question (str): The question for which an explanation is needed.\n",
        "        model: The text generation model.\n",
        "\n",
        "    Returns:\n",
        "        str: Generated explanation.\n",
        "    \"\"\"\n",
        "    result = model(question, max_length=150, num_return_sequences=1)\n",
        "    return result[0]['generated_text']"
      ],
      "metadata": {
        "id": "P_UP3vWRdM4r"
      },
      "execution_count": 4,
      "outputs": []
    },
    {
      "cell_type": "code",
      "source": [
        "# Sample data\n",
        "data = {\n",
        "    'Topic': ['Machine Learning', 'Cybersecurity', 'Programming'],\n",
        "    'Content': ['Explain supervised learning.', 'What are common cybersecurity threats?', 'What is object-oriented programming?']\n",
        "}\n",
        "\n",
        "df = pd.DataFrame(data)"
      ],
      "metadata": {
        "id": "hYa3gMWpdM74"
      },
      "execution_count": 5,
      "outputs": []
    },
    {
      "cell_type": "code",
      "source": [
        "for index, row in df.iterrows():\n",
        "    topic = row['Topic']\n",
        "    content = row['Content']\n",
        "\n",
        "    # Generate a question\n",
        "    question = generate_question(content, generator)\n",
        "    print(f\"Topic: {topic}\")\n",
        "    print(f\"Original Content: {content}\")\n",
        "    print(f\"Generated Question: {question}\")\n",
        "\n",
        "    # Provide an explanation\n",
        "    explanation = provide_explanation(question, generator)\n",
        "    print(f\"Explanation: {explanation}\\n\")"
      ],
      "metadata": {
        "id": "PbAU0G7pdM-q"
      },
      "execution_count": null,
      "outputs": []
    },
    {
      "cell_type": "code",
      "source": [],
      "metadata": {
        "id": "AFFF4IXIdNBS"
      },
      "execution_count": null,
      "outputs": []
    },
    {
      "cell_type": "code",
      "source": [],
      "metadata": {
        "id": "7VT2bdZQdNEH"
      },
      "execution_count": null,
      "outputs": []
    },
    {
      "cell_type": "code",
      "source": [],
      "metadata": {
        "id": "iWtGqBt_dNGt"
      },
      "execution_count": null,
      "outputs": []
    },
    {
      "cell_type": "code",
      "source": [],
      "metadata": {
        "id": "38T6V7x5dNKK"
      },
      "execution_count": null,
      "outputs": []
    }
  ]
}